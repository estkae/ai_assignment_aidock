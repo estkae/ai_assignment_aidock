{
 "cells": [
  {
   "cell_type": "code",
   "execution_count": 2,
   "metadata": {},
   "outputs": [],
   "source": [
    "# DONE remove stopwords, punctuation tags and number tags\n",
    "# DONE Lematize\n",
    "# DONE Tokenize\n",
    "# DONE Word embeddings\n",
    "# TODO Word2Vec\n"
   ]
  },
  {
   "cell_type": "code",
   "execution_count": 3,
   "metadata": {},
   "outputs": [],
   "source": [
    "import tensorflow as tf\n",
    "from tensorflow.keras.preprocessing.sequence import pad_sequences\n",
    "from tensorflow.keras.layers import Dense, Dropout, LSTM, Embedding, Bidirectional\n",
    "from tensorflow.keras.models import Sequential\n",
    "from tensorflow.keras.preprocessing.text import Tokenizer\n",
    "from tensorflow.keras.preprocessing.sequence import pad_sequences\n",
    "from tensorflow.keras.utils import to_categorical\n",
    "from tensorflow.keras.callbacks import TensorBoard\n",
    "# from sklearn.model_selection import train_test_split\n",
    "import numpy as np\n",
    "import pickle\n",
    "from glob import glob\n",
    "import random\n",
    "import os"
   ]
  },
  {
   "cell_type": "code",
   "execution_count": 4,
   "metadata": {},
   "outputs": [
    {
     "data": {
      "text/plain": "'2.5.0-dev20210317'"
     },
     "execution_count": 4,
     "metadata": {},
     "output_type": "execute_result"
    }
   ],
   "source": [
    "tf.__version__\n",
    "#print(\"hello\")"
   ]
  },
  {
   "cell_type": "code",
   "execution_count": 5,
   "metadata": {},
   "outputs": [],
   "source": [
    "import pandas as pd\n",
    "import re\n",
    "import pickle\n",
    "import numpy as np\n",
    "pd.set_option('display.max_colwidth', None)"
   ]
  },
  {
   "cell_type": "markdown",
   "metadata": {},
   "source": [
    "##### Count words with stopwords and symbols"
   ]
  },
  {
   "cell_type": "code",
   "execution_count": 6,
   "metadata": {
    "scrolled": false
   },
   "outputs": [],
   "source": [
    "import spacy\n",
    "\n",
    "# from spacy.tokenizer import Tokenizer\n",
    "import utils\n",
    "nlp = spacy.load('en_core_web_sm')\n",
    "import en_core_web_sm\n"
   ]
  },
  {
   "cell_type": "code",
   "execution_count": 7,
   "metadata": {},
   "outputs": [],
   "source": [
    "from spacy.lang.en.stop_words import STOP_WORDS\n",
    "# (STOP_WORDS)"
   ]
  },
  {
   "cell_type": "code",
   "execution_count": 9,
   "metadata": {
    "scrolled": true
   },
   "outputs": [],
   "source": [
    "def read_from_pickle(filename):\n",
    "    with open(filename, 'rb') as f:\n",
    "        return pickle.load(f)\n",
    "\n",
    "data = read_from_pickle('/Users/karlestermann/PycharmProjects/ai_assignment_aidock/data/new_one_page_data_clean.pkl')"
   ]
  },
  {
   "cell_type": "code",
   "execution_count": 10,
   "metadata": {
    "scrolled": true
   },
   "outputs": [
    {
     "data": {
      "text/plain": "                                                                                                                                                                                                                                                                                                                                                                                                                                                                                            paragraph  \\\n0                                                                                                                                                                                                                                                                                                                  1 pumpkin or large squash, (sugar pie pumpkin, butternut, buttercup or kabocha squash) Avoid large Halloween carving pumpkins because their flesh is too fibrous for a soft puree.   \n1                                                                                                                                                                                                                                                                                                                                                                                                                                                                           Chill until ready to use.   \n2                                                                                                                                                                                                                                                                                                                                  Preheat the oven to 400°F and line a baking sheet with parchment paper. Slice the squash in half, scoop out the seeds and place cut side down on the baking sheet.   \n3  Roast for 40 to 60 minutes or until the flesh is soft and a fork easily slides in. Let cool for about 1 hour. Use your hands to peel the flesh from the skin and place in a food processor. Puree until smooth, letting your food processor run for about a minute, stopping to scrape down the sides as needed. If your puree is more watery than the texture of canned pumpkin, strain the excess liquid by letting it sit in a fine mesh strainer (or cheesecloth) over a bowl for 30 minutes.    \n\n                                                                                                                                                                                                                                                                                                                                         remove_stop_words  \\\n0                                                                                                                                                                                                    znum pumpkin large squash sugar pie pumpkin butternut buttercup kabocha squash avoid large halloween carve pumpkin pron flesh fibrous soft puree zdot   \n1                                                                                                                                                                                                                                                                                                                                     chill ready use zdot   \n2                                                                                                                                                                                                                                      preheat oven znum f line baking sheet parchment paper zdot slice squash half scoop seed place cut baking sheet zdot   \n3  roast znum znum minute flesh soft fork easily slide zdot let cool znum hour zdot use pron hand peel flesh skin place food processor zdot puree smooth let pron food processor run minute stopping scrape need zdot pron puree watery texture canned pumpkin strain excess liquid let pron sit fine mesh strainer cheesecloth bowl znum minute zdot znum   \n\n   sent_count  num_count  clean_paragraph_len  verb_count  contains_pron  \\\n0           1          1                   22           1              1   \n1           1          0                    4           2              0   \n2           2          1                   20           2              0   \n3           5          5                   58          10              1   \n\n   label  \n0      1  \n1      0  \n2      0  \n3      0  ",
      "text/html": "<div>\n<style scoped>\n    .dataframe tbody tr th:only-of-type {\n        vertical-align: middle;\n    }\n\n    .dataframe tbody tr th {\n        vertical-align: top;\n    }\n\n    .dataframe thead th {\n        text-align: right;\n    }\n</style>\n<table border=\"1\" class=\"dataframe\">\n  <thead>\n    <tr style=\"text-align: right;\">\n      <th></th>\n      <th>paragraph</th>\n      <th>remove_stop_words</th>\n      <th>sent_count</th>\n      <th>num_count</th>\n      <th>clean_paragraph_len</th>\n      <th>verb_count</th>\n      <th>contains_pron</th>\n      <th>label</th>\n    </tr>\n  </thead>\n  <tbody>\n    <tr>\n      <th>0</th>\n      <td>1 pumpkin or large squash, (sugar pie pumpkin, butternut, buttercup or kabocha squash) Avoid large Halloween carving pumpkins because their flesh is too fibrous for a soft puree.</td>\n      <td>znum pumpkin large squash sugar pie pumpkin butternut buttercup kabocha squash avoid large halloween carve pumpkin pron flesh fibrous soft puree zdot</td>\n      <td>1</td>\n      <td>1</td>\n      <td>22</td>\n      <td>1</td>\n      <td>1</td>\n      <td>1</td>\n    </tr>\n    <tr>\n      <th>1</th>\n      <td>Chill until ready to use.</td>\n      <td>chill ready use zdot</td>\n      <td>1</td>\n      <td>0</td>\n      <td>4</td>\n      <td>2</td>\n      <td>0</td>\n      <td>0</td>\n    </tr>\n    <tr>\n      <th>2</th>\n      <td>Preheat the oven to 400°F and line a baking sheet with parchment paper. Slice the squash in half, scoop out the seeds and place cut side down on the baking sheet.</td>\n      <td>preheat oven znum f line baking sheet parchment paper zdot slice squash half scoop seed place cut baking sheet zdot</td>\n      <td>2</td>\n      <td>1</td>\n      <td>20</td>\n      <td>2</td>\n      <td>0</td>\n      <td>0</td>\n    </tr>\n    <tr>\n      <th>3</th>\n      <td>Roast for 40 to 60 minutes or until the flesh is soft and a fork easily slides in. Let cool for about 1 hour. Use your hands to peel the flesh from the skin and place in a food processor. Puree until smooth, letting your food processor run for about a minute, stopping to scrape down the sides as needed. If your puree is more watery than the texture of canned pumpkin, strain the excess liquid by letting it sit in a fine mesh strainer (or cheesecloth) over a bowl for 30 minutes.</td>\n      <td>roast znum znum minute flesh soft fork easily slide zdot let cool znum hour zdot use pron hand peel flesh skin place food processor zdot puree smooth let pron food processor run minute stopping scrape need zdot pron puree watery texture canned pumpkin strain excess liquid let pron sit fine mesh strainer cheesecloth bowl znum minute zdot znum</td>\n      <td>5</td>\n      <td>5</td>\n      <td>58</td>\n      <td>10</td>\n      <td>1</td>\n      <td>0</td>\n    </tr>\n  </tbody>\n</table>\n</div>"
     },
     "execution_count": 10,
     "metadata": {},
     "output_type": "execute_result"
    }
   ],
   "source": [
    "data.tail()"
   ]
  },
  {
   "cell_type": "code",
   "execution_count": 11,
   "metadata": {},
   "outputs": [
    {
     "data": {
      "text/plain": "0    75.0\n1    25.0\nName: label, dtype: float64"
     },
     "execution_count": 11,
     "metadata": {},
     "output_type": "execute_result"
    }
   ],
   "source": [
    "round(data['label'].value_counts()/len(data)*100,2)"
   ]
  },
  {
   "cell_type": "code",
   "execution_count": 17,
   "metadata": {},
   "outputs": [
    {
     "data": {
      "text/plain": "0    79.63\n1    20.37\nName: label, dtype: float64"
     },
     "execution_count": 17,
     "metadata": {},
     "output_type": "execute_result"
    }
   ],
   "source": [
    "train = pd.read_pickle('/Users/karlestermann/PycharmProjects/ai_assignment_aidock/data/new_train_data_clean.pkl')\n",
    "round(train['label'].value_counts()/len(train)*100,2)"
   ]
  },
  {
   "cell_type": "code",
   "execution_count": 18,
   "metadata": {},
   "outputs": [
    {
     "data": {
      "text/plain": "0    79.65\n1    20.35\nName: label, dtype: float64"
     },
     "execution_count": 18,
     "metadata": {},
     "output_type": "execute_result"
    }
   ],
   "source": [
    "test = pd.read_pickle('/Users/karlestermann/PycharmProjects/ai_assignment_aidock/data/new_test_data_clean.pkl')\n",
    "round(test['label'].value_counts()/len(test)*100,2)"
   ]
  },
  {
   "cell_type": "code",
   "execution_count": 19,
   "metadata": {},
   "outputs": [
    {
     "data": {
      "text/plain": "(217, 217)"
     },
     "execution_count": 19,
     "metadata": {},
     "output_type": "execute_result"
    }
   ],
   "source": [
    "maxSequenceLength_train = train['clean_paragraph_len'].max()#121 91-seed 42\n",
    "maxSequenceLength_test = test['clean_paragraph_len'].max() #86 91-seed 42\n",
    "maxSequenceLength_test, maxSequenceLength_train #(81, 91),"
   ]
  },
  {
   "cell_type": "code",
   "execution_count": 20,
   "metadata": {
    "scrolled": true
   },
   "outputs": [
    {
     "name": "stdout",
     "output_type": "stream",
     "text": [
      "Max length in paragraph : 217 words\n",
      "Max length in paragraph : 217 words\n",
      "217 217\n"
     ]
    }
   ],
   "source": [
    "#Sentences array for train and test sets + target variable for train and test\n",
    "text_train = train['remove_stop_words']\n",
    "y_train = train['label']\n",
    "\n",
    "text_test = test['remove_stop_words']\n",
    "y_test = test['label']\n",
    "\n",
    "def get_max_sequence_len(series):\n",
    "    max_words = 0\n",
    "    for desc in series:\n",
    "        words = len(desc.split())\n",
    "        if words > max_words:\n",
    "            max_words = words\n",
    "    print(f'Max length in paragraph : {max_words} words')\n",
    "    return max_words\n",
    "\n",
    "max_sequence_length = get_max_sequence_len(text_train)#121\n",
    "maxSequenceLength_test = get_max_sequence_len(text_test)#121\n",
    "print(max_sequence_length,maxSequenceLength_test)\n",
    "#(82, 121) --> max sent len in whole data is 121"
   ]
  },
  {
   "cell_type": "markdown",
   "metadata": {},
   "source": [
    "### Tockenization of train set\n"
   ]
  },
  {
   "cell_type": "code",
   "execution_count": 21,
   "metadata": {},
   "outputs": [
    {
     "data": {
      "text/plain": "217"
     },
     "execution_count": 21,
     "metadata": {},
     "output_type": "execute_result"
    }
   ],
   "source": [
    "max_sequence_length"
   ]
  },
  {
   "cell_type": "code",
   "execution_count": null,
   "metadata": {
    "scrolled": false
   },
   "outputs": [],
   "source": [
    "# tokenizer = Tokenizer()\n",
    "# tokenizer.fit_on_texts(X_train)\n",
    "# # top 15 max_count by wordsin our data\n",
    "# tokenizer.word_counts\n",
    "# sorted(tokenizer.word_counts.items(), key=lambda x: x[1], reverse=True)[:15]"
   ]
  },
  {
   "cell_type": "code",
   "execution_count": null,
   "metadata": {
    "scrolled": true
   },
   "outputs": [],
   "source": [
    "# total_words = len(tokenizer.word_index)\n",
    "# print(f'In vocab {total_words} words')\n",
    "# #In vocab 2303 words"
   ]
  },
  {
   "cell_type": "code",
   "execution_count": null,
   "metadata": {
    "scrolled": true
   },
   "outputs": [],
   "source": [
    "# print(textSequences_train[:3])"
   ]
  },
  {
   "cell_type": "code",
   "execution_count": 22,
   "metadata": {},
   "outputs": [],
   "source": [
    "\n",
    "def prep_text(texts, max_sequence_length):\n",
    "    \"\"\" Create a union train set vocabulary and turn text in set\n",
    "    into  padded sequences (word --> num )\n",
    "    :param texts: series of prepared strings\n",
    "           max_sequence_length: int max len of sentence in series\n",
    "    :return ndArray with transformed series of text to int\n",
    "            with 0-padding up to max_sequence_length\"\"\"\n",
    "    # we will use only first most common 1000 words\n",
    "    tokenizer1 = Tokenizer()\n",
    "    tokenizer1.fit_on_texts(texts)\n",
    "    vocab_size = len(tokenizer1.word_counts)\n",
    "\n",
    "    tokenizer = Tokenizer(num_words=vocab_size)\n",
    "    tokenizer.fit_on_texts(texts)\n",
    "    print('vocab len',vocab_size,len(tokenizer.word_index))\n",
    "    # Turn text into  padded sequences (word --> num )\n",
    "    text_sequences = tokenizer.texts_to_sequences(texts)\n",
    "    return pad_sequences(text_sequences, maxlen=max_sequence_length,\n",
    "                         dtype=\"int32\", padding=\"post\", value=0), vocab_size\n",
    "\n",
    "\n"
   ]
  },
  {
   "cell_type": "markdown",
   "metadata": {},
   "source": [
    "### Fot train set"
   ]
  },
  {
   "cell_type": "code",
   "execution_count": 23,
   "metadata": {
    "scrolled": true
   },
   "outputs": [
    {
     "name": "stdout",
     "output_type": "stream",
     "text": [
      "vocab len 2474 2474\n"
     ]
    }
   ],
   "source": [
    "sent2vec_train, vocab_size_train = prep_text(text_train, max_sequence_length)\n",
    "\n",
    "# index_max_len_sent = train[train['clean_paragraph_len'] == max_sequence_length].index\n",
    "# sent2vec_train[index_max_len_sent]"
   ]
  },
  {
   "cell_type": "code",
   "execution_count": 24,
   "metadata": {
    "scrolled": false
   },
   "outputs": [],
   "source": [
    "# train[train['clean_paragraph_len'] == max_sequence_length]"
   ]
  },
  {
   "cell_type": "code",
   "execution_count": 25,
   "metadata": {},
   "outputs": [
    {
     "name": "stdout",
     "output_type": "stream",
     "text": [
      "(3898, 217)\n",
      "(3898, 4)\n"
     ]
    }
   ],
   "source": [
    "print(sent2vec_train.shape)\n",
    "print((train[['sent_count','num_count','clean_paragraph_len','contains_pron']].values).shape)"
   ]
  },
  {
   "cell_type": "code",
   "execution_count": 26,
   "metadata": {},
   "outputs": [
    {
     "data": {
      "text/plain": "((3898, 217), (3898, 1))"
     },
     "execution_count": 26,
     "metadata": {},
     "output_type": "execute_result"
    }
   ],
   "source": [
    "X_train = sent2vec_train #np.hstack((sent2vec_train, train[['sent_count','num_count','clean_paragraph_len','contains_pron']].to_numpy()))\n",
    "y_train = train['label'].to_numpy().reshape(-1,1)\n",
    "\n",
    "X_train.shape, y_train.shape\n"
   ]
  },
  {
   "cell_type": "markdown",
   "metadata": {},
   "source": [
    "### For test set"
   ]
  },
  {
   "cell_type": "code",
   "execution_count": 27,
   "metadata": {
    "scrolled": false
   },
   "outputs": [
    {
     "name": "stdout",
     "output_type": "stream",
     "text": [
      "vocab len 1636 1636\n"
     ]
    }
   ],
   "source": [
    "sent2vec_test, vocab_size_test = prep_text(text_test, maxSequenceLength_test)\n",
    "# index_max_len_sent_test = test[test['clean_paragraph_len'] == maxSequenceLength_test].index #Int64Index([2373], dtype='int64')\n",
    "# sent2vec_test[index_max_len_sent_test]"
   ]
  },
  {
   "cell_type": "code",
   "execution_count": 28,
   "metadata": {},
   "outputs": [
    {
     "data": {
      "text/plain": "((973, 217), (973, 1))"
     },
     "execution_count": 28,
     "metadata": {},
     "output_type": "execute_result"
    }
   ],
   "source": [
    "X_test = sent2vec_test              #np.hstack((sent2vec_test, test[['sent_count','num_count','clean_paragraph_len','contains_pron']].to_numpy()))\n",
    "y_test = test['label'].to_numpy().reshape(-1,1)\n",
    "\n",
    "X_test.shape, y_test.shape\n"
   ]
  },
  {
   "cell_type": "code",
   "execution_count": 29,
   "metadata": {
    "scrolled": true
   },
   "outputs": [],
   "source": [
    "# test[test['clean_paragraph_len'] == maxSequenceLength_test]"
   ]
  },
  {
   "cell_type": "markdown",
   "metadata": {},
   "source": [
    "### Simple Neural Network"
   ]
  },
  {
   "cell_type": "code",
   "execution_count": 30,
   "metadata": {},
   "outputs": [],
   "source": [
    "# NUM_WORDS=2000 # we will use\n",
    "SEQ_LEN=121 # max len sequence\n",
    "EMBEDDING_SIZE=128\n",
    "BATCH_SIZE=128\n",
    "EPOCHS=200\n",
    "THRESHOLD=0.5\n"
   ]
  },
  {
   "cell_type": "code",
   "execution_count": 31,
   "metadata": {
    "scrolled": true
   },
   "outputs": [
    {
     "name": "stdout",
     "output_type": "stream",
     "text": [
      "Model: \"sequential\"\n",
      "_________________________________________________________________\n",
      "Layer (type)                 Output Shape              Param #   \n",
      "=================================================================\n",
      "embedding (Embedding)        (None, None, 128)         316672    \n",
      "_________________________________________________________________\n",
      "global_average_pooling1d (Gl (None, 128)               0         \n",
      "_________________________________________________________________\n",
      "dense (Dense)                (None, 1)                 129       \n",
      "=================================================================\n",
      "Total params: 316,801\n",
      "Trainable params: 316,801\n",
      "Non-trainable params: 0\n",
      "_________________________________________________________________\n",
      "Epoch 1/200\n",
      "31/31 [==============================] - 1s 15ms/step - loss: 0.6389 - accuracy: 0.7960 - val_loss: 0.5458 - val_accuracy: 0.7975\b\b\b\b\b\b\b\b\b\b\b\b\b\b\b\b\b\b\b\b\b\b\b\b\b\b\b\b\b\b\b\b\b\b\b\b\b\b\b\b\b\b\b\b\b\b\b\b\b\b\b\b\b\b\b\b\b\b\b\b\b\b\b\b\b\b\b\b\b\b\b\b\b\b\b\b\b\b\b\b\b\b\b\b\b\b\b\b\b\b\b\b\b\b\b\b\b\b\b\b\b\b\b\b\b\b\b\b\b\b\b\b\b\b\b\b\b\b\b\b\b\b\b\b\b\b\b\b\b\b\b\b\b\b\b\b\b\b\b\b\b\b\b\b\b\b\b\b\b\b\b\b\b\b\b\b\b\b\b\b\b\b\b\b\b\b\b\b\b\b\b\b\b\b\b\b\b\b\b\b\b\b\b\b\b\b\b\b\b\b\b\b\b\b\b\b\b\b\b\b\b\b\b\b\b\b\b\b\b\b\b\b\b\b\b\b\b\b\b\b\b\b\b\b\b\b\b\b\b\b\b\b\b\b\b\b\b\b\b\b\b\b\b\b\b\b\b\b\b\b\b\b\b\b\b\b\b\b\b\b\b\b\b\b\b\b\b\b\b\b\b\b\b\b\b\b\b\b\b\b\b\b\b\b\b\b\b\b\b\b\b\b\b\b\b\b\b\b\b\b\b\b\b\b\b\b\b\b\b\b\b\b\b\b\b\b\b\b\b\b\b\b\b\b\b\b\b\b\b\b\b\b\b\b\b\b\b\b\b\b\b\b\b\b\b\b\b\b\b\b\b\b\b\b\b\b\b\b\b\b\b\b\b\b\b\n"
     ]
    }
   ],
   "source": [
    "model = tf.keras.Sequential([\n",
    "  tf.keras.layers.Embedding(vocab_size_train, EMBEDDING_SIZE),\n",
    "  tf.keras.layers.GlobalAveragePooling1D(),\n",
    "  tf.keras.layers.Dense(1, activation='sigmoid')])\n",
    "\n",
    "model.summary()\n",
    "\n",
    "model.compile(optimizer='adam',\n",
    "              loss='binary_crossentropy',\n",
    "              metrics=['accuracy'])\n",
    "\n",
    "es = tf.keras.callbacks.EarlyStopping(monitor='val_loss'\n",
    "          , mode='min')\n",
    "callbacks=[es]\n",
    "history = model.fit(X_train, y_train\n",
    "                    , batch_size=BATCH_SIZE\n",
    "                    , epochs=EPOCHS\n",
    "                    , validation_data=(X_test, y_test)\n",
    "                    , callbacks=callbacks)"
   ]
  },
  {
   "cell_type": "code",
   "execution_count": 32,
   "metadata": {},
   "outputs": [
    {
     "name": "stdout",
     "output_type": "stream",
     "text": [
      "8/8 [==============================] - 0s 2ms/step - loss: 0.5458 - accuracy: 0.7975\b\b\b\b\b\b\b\b\b\b\b\b\b\b\b\b\b\b\b\b\b\b\b\b\b\b\b\b\b\b\b\b\b\b\b\b\b\b\b\b\b\b\b\b\b\b\b\b\b\b\b\b\b\b\b\b\b\b\b\b\b\b\b\b\b\b\b\b\b\b\b\b\b\b\b\b\n",
      "\n",
      "Model Loss score: 0.5457544326782227\n",
      "Model Accuracy Evaluation : 0.797533392906189\n"
     ]
    }
   ],
   "source": [
    "score = model.evaluate(X_test, y_test,\n",
    "                       batch_size=BATCH_SIZE, verbose=1)\n",
    "print()\n",
    "print(u'Model Loss score: {}'.format(score[0]))\n",
    "print(u'Model Accuracy Evaluation : {}'.format(score[1]))\n"
   ]
  },
  {
   "cell_type": "code",
   "execution_count": 33,
   "metadata": {
    "scrolled": true
   },
   "outputs": [
    {
     "data": {
      "text/plain": "<Figure size 1080x288 with 1 Axes>",
      "image/png": "[encoded data removed]"
     },
     "metadata": {
      "needs_background": "light"
     },
     "output_type": "display_data"
    }
   ],
   "source": [
    "import matplotlib.pyplot as plt\n",
    "%matplotlib inline\n",
    "import warnings\n",
    "warnings.simplefilter(action='ignore')\n",
    "warnings.filterwarnings('ignore')\n",
    "\n",
    "#plot the accuracy\n",
    "plt.figure(figsize=(15,4))\n",
    "plt.plot(history.history['loss'],'r', label='Loss')\n",
    "plt.plot(history.history['val_loss'],'g--', label = 'val_Loss')\n",
    "plt.xlabel('Epoch')\n",
    "plt.ylabel('Loss')\n",
    "# plt.ylim([0, 0.5])\n",
    "# plt.xlim([0, 20])\n",
    "plt.title('The Loss vs val_accuracy Simple Neural Network, activation=sigmoid')\n",
    "plt.legend(loc='best');"
   ]
  },
  {
   "cell_type": "code",
   "execution_count": 34,
   "metadata": {
    "scrolled": true
   },
   "outputs": [
    {
     "data": {
      "text/plain": "                                                                                                                                                                                                                                                                                                                                                                                                                                                                                                                                                                     text  \\\n548                                                                                                                                                                                                                                                                                                                                                                                                                                                                   medium bowl mix mango onion cilantro lime juice garlic jalape znum o salt zdot chill ready use zdot   \n549                                                                                                                                                                                                                                                                                                                                                                                                                                                                add chopped chard leave macaroni noodle fennel frond continue simmer noodle cook zdot znum minute zdot   \n550                                                                                                                                                                                                                                                                                                                                                                                                                          znum cup gin znum tablespoon meyer lemon juice znum tablespoon agave nectar splash ginger juice znum splash sparkle water lemon peel garnish   \n551                                                                                                                                                                                                                                                                                                                                                  steamer basket pot simmer water steam carrot cover tender znum znum minute zdot remove set aside zdot steam broccoli tender bright green znum znum minute zdot lastly steam kale tender znum second znum minute zdot   \n552                                                                                                                                                                                                                                                                                                                                                                                                                                                            small food processor combine egg yolks mayo yogurt relish mustard pulse smooth zdot season taste salt zdot   \n553                                                                                                                                                                     roast vegetable zdot place parsnip brussels sprout cauliflower large baking sheet zdot place broccolini second baking sheet zdot drizzle vegetable olive oil pinche salt pepper toss coat spread evenly sheet zdot roast parsnip znum brussels sprout znum cauliflower znum znum minute golden brown edge zdot roast broccolini znum znum minute tender zdot cool touch chop broccolini stem zdot   \n554                                                                                                                                                                                                                                                                                                                                                                              pour batter prepare pan use offset spatula gently smooth sure apple dispersed way edge pan zdot tap pan gently counter release air bubble zdot sprinkle remaining znum cup nut cake zdot   \n555                                                                                                                                                                                                                                                                                                                                                                                                                                                                                                         medium bowl whisk flour ground almond baking powder salt zdot   \n556                                                                                                                                                                                                                                                                                                                                                                                                                                                                        taste add salt pepper lemon juice taste zdot pron salad little dry drizzle olive oil toss zdot   \n557                                             znum tablespoon extra virgin olive oil znum small onion chop znum carrot chop znum tablespoon finely chop rosemary znum garlic clove mince znum medium roma vine tomato dice znum teaspoon red pepper flake znum tablespoon white wine znum cup cook cannellini bean drain rinse znum cup vegetable broth znum large lacinato kale leave thinly slice coarse stem remove znum thick slice stale ciabatta bread cube balsamic vinegar drizzle znum cup shave parmesan cheese optional sea salt freshly ground black pepper   \n558                                                      znum cup cube extra firm tofu extra virgin olive oil drizzle znum teaspoon sriracha znum cups broccolini chop znum inch piece znum cup green bean chop znum inch piece znum scallion chop znum inch piece znum radish halved quarter pinch red pepper flake lime wedge serve znum cup roasted sugar pie pumpkin mash znum znum cup light coconut milk znum teaspoon red curry paste znum garlic clove znum tablespoon fresh lime juice sea salt freshly ground black pepper znum znum tablespoon water need thin   \n559                                                                                                                                                                                      large bowl combine flaxseed water banana zdot mash stir combine zdot let mixture sit znum minute thicken zdot add olive oil vanilla almond milk whisk zdot add flour sprinkle baking powder baking soda cinnamon nutmeg salt evenly zdot stir ingredient combine batter bit lumpy zdot batter bit thick pron znum s thick scoop stir additional znum tablespoon almond milk zdot   \n560                                                                                                                                                                                                                                                                                                                                                                                                                                                                                                                              garnish drizzle coconut milk desire zdot   \n561                                                                                                                                                                                                                                                                                                                                                                                                                                                                 bake znum znum minute egg set edge lightly golden brown zdot let casserole sit znum minute slice zdot   \n562                                                                                                                                                                                                                                                                                                                                                                                                                                                                                                                     dust znum large baking sheet flour set aside zdot   \n563                                                                                                                                                                                                                                                                                                                                                                                                                                                                                                                                                 stir dry wet mix zdot   \n564                                                                                                                                                                                                   stuffing zdot large skillet heat oil medium heat zdot add onion cook minute pron start soften zdot add carrot celery pinche salt pepper continue cook vegetable soften znum minute zdot add poblanos garlic sage oregano cook minute zdot deglaze pan white wine zdot add corn scallion currant kale salt cook minute kale wilt zdot remove pan heat set aside zdot   \n565                                                                                                                                                                                                                                                                                                                                                                                                                                                                                                                       cook pasta pot salt boiling water al dente zdot   \n566                                                                                                                                                                                                                                                                                                                                                                       cut pumpkin half scoop seed zdot drizzle olive oil pinche salt pepper place baking sheet cut zdot roast znum znum minute soft zdot cool touch peel away skin measure znum packed cup flesh zdot   \n567                                                                                                                                                                                                                                                                                                                                                                                   assemble dumpling scoop znum heap teaspoon filling wrapper zdot use pron finger dab edge wrapper cold water fold half filling press seal zdot fold znum pleat wrapper crescent zdot   \n568                                                                                                                                            znum cup cook wheat berry roast butternut squash cube znum small squash znum medium shallot chop znum inch piece znum cup znum cup fresh sage leave znum extra virgin olive oil drizzle apple cider vinegar dressing znum bunch lacinato kale stem znum cup toast walnut chop znum cup dry cranberry znum cup chop parsley znum tablespoon fresh thyme znum cup shave pecorino cheese sea salt freshly ground black pepper   \n569                                                                                                                                                                                                                                                                                                                                                                                                                                                                                                   large bowl mix brown rice cereal almond hemp seed coconut salt zdot   \n570                                                                                                                                                                                                                                                                                                                                                                                                                                                                                                      preheat oven znum f line large baking sheet parchment paper zdot   \n571                                                                                                                                                                                                                                                                                                                                                                                                                  toss cubed pumpkin znum squash bit olive oil salt znum pepper zdot spread baking sheet roast golden brown edge znum znum min depend pron squash zdot   \n572                                                                                                                                                                                                                                                                                                                                                                                                                                                                                     preheat oven znum f lightly grease znum baking dish nonstick spray olive oil zdot   \n573                                                                                                                                                                                                                                                                                                                                                                                                                                                                                     remove heat add squeeze lime juice stir cilantro zdot taste adjust seasoning zdot   \n574                                                                                                                                                                                                                                                                                                                                                       pron artichoke roast pesto zdot combine pine nut garlic small food processor zdot pulse add pea lemon juice dijon mustard spinach mint zdot blend combine zdot add olive oil blend smooth smooth pron like zdot   \n575                                                                                                                                                                                                                                                                                                                                                                                                                                                                                                                          cook pasta large pot salt boiling water zdot   \n576                                                                                                                                                                                                                                                                                                                                                                                                                                                    add reserved broth simmer znum minute add bok choy zdot simmer bok choy tender vibrant green znum znum minute zdot   \n577                                                                                                                                                                                                                                                                                                                                                                                               place bean large bowl zdot discard stone debris zdot cover znum znum inch water discard bean float zdot soak room temperature znum hour overnight zdot drain rinse zdot   \n578                                                                                                                                                                                                                                                                                                                                                     stir sweet potato broth mixture saut znum ed onion zdot increase heat high bring mixture boil zdot lower heat medium add znum teaspoon salt simmer uncover stir occasionally znum minute sweet potato tender zdot   \n579                                                                                                                                                                                                                                                                                                                                                                                                                                                                                                              sprinkle cookie sanding sugar bake znum znum minute zdot   \n580                                                                                                                                                                                                                                                                                                                                                                                                                                           heat medium skillet medium heat zdot brush pan little bit oil cook quesadilla minute tortilla golden brown cheese melt zdot   \n581                   znum small japanese eggplant chop znum inch piece znum cup chop summer squash znum red bell pepper chop znum inch piece znum cup cherry tomato slice extra virgin olive oil drizzle znum tortillas znum cup cook black bean drain rinse znum avocados dice chop cilantro znum serrano pepper slice optional crumble cotija cheese optional sea salt freshly ground black pepper znum cup tomatillo salsa znum cup pepitas znum avocado handful spinach znum tablespoon extra virgin olive oil lime juice taste sea salt freshly ground black pepper   \n582                                                                                                                                                                                                                                                                                                                                                                                                                                                                                                                      char pepper gas burner broiler skin blacken zdot   \n583                                                                                                                                                                                                                                                                                                                                                                                              heat oil large pot medium heat zdot add onion znum teaspoon salt grind pepper cook stir occasionally znum minute zdot add carrot sweet potato stir cook znum minute zdot   \n584                                                                                                                                                                                                                                                                                                                                                                                                                                                                                  marinate tuna soy sauce ginger pepper zdot let pron sit znum minute hour fridge zdot   \n585                                                                                                                                                               znum cup wheat pastry flour znum znum purpose flour znum cup cocoa powder znum tablespoon baking powder znum teaspoon baking soda znum teaspoon sea salt znum teaspoon cinnamon znum teaspoon nutmeg znum eggs znum cups almond milk room temp znum cup coconut oil melt znum cup maple syrup znum teaspoon vanilla extract znum cup shred unpeeled zucchini znum cup semisweet chocolate chip sprinkle   \n586                                                                                                                                                                                                                                                                                                                znum large carrot sea salt coat znum tablespoon extra virgin olive oil znum tablespoon rice vinegar znum teaspoon smoke paprika big squeeze fresh lemon juice freshly grind black pepper bagel vegan cream cheese cucumber slice caper chive znum dill   \n587                                                                                                                                                                                                                                                                                                                                                                                                                                        scrape white bean puree pot stir combine zdot quinoa creamy consistency dry zdot pron dry add good splash vegetable stock zdot   \n588                                                                                                                                                                                                                                                                                                                                                                                                                                                                                                          high speed blender combine ingredient zdot blend smooth zdot   \n589                                                                                                                                                                                                                                                                                                                                                                turn heat low add noodle pan drizzle sauce zdot pron use pron pron sweet start half add later pron taste zdot add tofu pan handful green scallion toss zdot taste add sauce salt pepper pron wish zdot   \n590                                                                                                                                                                                                                                                                                                                                                    place vegetable chickpea large baking sheet pron touch closely use znum sheet pron zdot drizzle toss olive oil salt pepper zdot roast golden brown znum znum minute total look znum remove broccoli necessary zdot   \n591                                                                                                                                                                                                                                                                                                                                                                                                                       arrange squash cube baking sheet toss little bit olive oil zdot roast znum znum minute tender zdot note zdot squash need golden brown soft zdot   \n592                                                                                                                                                                                                                                                                                                                                                                                               shawarma spice mix zdot small bowl combine coriander paprika cumin cinnamon ginger cayenne pinche salt pepper zdot use generous pinche season chickpeas roast pron zdot   \n593                                                                                                                                                                                                                                                                                                                                                                                                                                                                                                                                         preheat pron oven znum f zdot   \n594                                                                                                                                                                                                                                                                                                                                                                                                                                                                  toss sweet potato olive oil salt pepper spread baking sheet zdot roast znum minute golden brown zdot   \n595                                                                                                                                                                                                                                                                                                                                                                                                                                                                                                                    mix chop avocado serve zdot taste znum adjust zdot   \n596                                                                                                                                                                                                                                                                                                                                                                                                                                                   preheat oven znum f line znum inch bake pan parchment paper zdot lightly spray exposed pan nonstick cook spray zdot   \n597                                                                                                                                                                                                                                                                                                                                                                  znum ounces apple juice znum cinnamon sticks znum star anise pod znum ounce stoli premium vodka znum tablespoon fresh squeeze lemon ice znum oz zdot bottle spark water optional apple slice garnish   \n598                                                                                                                                                                                                                                                                                                                                                                                                                                                spicy vegan cheese add chipotle pepper pickle jalape znum os zdot pron znum d like smoky flavor add smoke paprika zdot   \n599  znum tablespoon extra virgin olive oil drizzle znum yellow onion coarsely chop znum pound eggplant stem cut znum inch piece znum teaspoon sea salt divide znum garlic clove chop znum cup cherry tomatoes divide znum red yellow bell pepper stem seeded cut znum inch piece znum medium zucchini halve slice znum inch thick half moon znum tablespoon fresh thyme leave znum teaspoon herbe de provence znum teaspoon dry oregano freshly grind black pepper pinch red pepper flake znum tablespoon white wine vinegar divide fresh basil znum thyme leave garnish   \n\n       pred_label         label  \n548  Instructions  Instructions  \n549  Instructions  Instructions  \n550  Instructions       Recepie  \n551  Instructions  Instructions  \n552  Instructions  Instructions  \n553  Instructions  Instructions  \n554  Instructions  Instructions  \n555  Instructions  Instructions  \n556  Instructions  Instructions  \n557  Instructions       Recepie  \n558  Instructions       Recepie  \n559  Instructions  Instructions  \n560  Instructions  Instructions  \n561  Instructions  Instructions  \n562  Instructions  Instructions  \n563  Instructions  Instructions  \n564  Instructions  Instructions  \n565  Instructions  Instructions  \n566  Instructions  Instructions  \n567  Instructions  Instructions  \n568  Instructions       Recepie  \n569  Instructions  Instructions  \n570  Instructions  Instructions  \n571  Instructions  Instructions  \n572  Instructions  Instructions  \n573  Instructions  Instructions  \n574  Instructions  Instructions  \n575  Instructions  Instructions  \n576  Instructions  Instructions  \n577  Instructions  Instructions  \n578  Instructions  Instructions  \n579  Instructions  Instructions  \n580  Instructions  Instructions  \n581  Instructions       Recepie  \n582  Instructions  Instructions  \n583  Instructions  Instructions  \n584  Instructions  Instructions  \n585  Instructions       Recepie  \n586  Instructions       Recepie  \n587  Instructions  Instructions  \n588  Instructions  Instructions  \n589  Instructions  Instructions  \n590  Instructions  Instructions  \n591  Instructions  Instructions  \n592  Instructions  Instructions  \n593  Instructions  Instructions  \n594  Instructions  Instructions  \n595  Instructions  Instructions  \n596  Instructions  Instructions  \n597  Instructions       Recepie  \n598  Instructions  Instructions  \n599  Instructions       Recepie  ",
      "text/html": "<div>\n<style scoped>\n    .dataframe tbody tr th:only-of-type {\n        vertical-align: middle;\n    }\n\n    .dataframe tbody tr th {\n        vertical-align: top;\n    }\n\n    .dataframe thead th {\n        text-align: right;\n    }\n</style>\n<table border=\"1\" class=\"dataframe\">\n  <thead>\n    <tr style=\"text-align: right;\">\n      <th></th>\n      <th>text</th>\n      <th>pred_label</th>\n      <th>label</th>\n    </tr>\n  </thead>\n  <tbody>\n    <tr>\n      <th>548</th>\n      <td>medium bowl mix mango onion cilantro lime juice garlic jalape znum o salt zdot chill ready use zdot</td>\n      <td>Instructions</td>\n      <td>Instructions</td>\n    </tr>\n    <tr>\n      <th>549</th>\n      <td>add chopped chard leave macaroni noodle fennel frond continue simmer noodle cook zdot znum minute zdot</td>\n      <td>Instructions</td>\n      <td>Instructions</td>\n    </tr>\n    <tr>\n      <th>550</th>\n      <td>znum cup gin znum tablespoon meyer lemon juice znum tablespoon agave nectar splash ginger juice znum splash sparkle water lemon peel garnish</td>\n      <td>Instructions</td>\n      <td>Recepie</td>\n    </tr>\n    <tr>\n      <th>551</th>\n      <td>steamer basket pot simmer water steam carrot cover tender znum znum minute zdot remove set aside zdot steam broccoli tender bright green znum znum minute zdot lastly steam kale tender znum second znum minute zdot</td>\n      <td>Instructions</td>\n      <td>Instructions</td>\n    </tr>\n    <tr>\n      <th>552</th>\n      <td>small food processor combine egg yolks mayo yogurt relish mustard pulse smooth zdot season taste salt zdot</td>\n      <td>Instructions</td>\n      <td>Instructions</td>\n    </tr>\n    <tr>\n      <th>553</th>\n      <td>roast vegetable zdot place parsnip brussels sprout cauliflower large baking sheet zdot place broccolini second baking sheet zdot drizzle vegetable olive oil pinche salt pepper toss coat spread evenly sheet zdot roast parsnip znum brussels sprout znum cauliflower znum znum minute golden brown edge zdot roast broccolini znum znum minute tender zdot cool touch chop broccolini stem zdot</td>\n      <td>Instructions</td>\n      <td>Instructions</td>\n    </tr>\n    <tr>\n      <th>554</th>\n      <td>pour batter prepare pan use offset spatula gently smooth sure apple dispersed way edge pan zdot tap pan gently counter release air bubble zdot sprinkle remaining znum cup nut cake zdot</td>\n      <td>Instructions</td>\n      <td>Instructions</td>\n    </tr>\n    <tr>\n      <th>555</th>\n      <td>medium bowl whisk flour ground almond baking powder salt zdot</td>\n      <td>Instructions</td>\n      <td>Instructions</td>\n    </tr>\n    <tr>\n      <th>556</th>\n      <td>taste add salt pepper lemon juice taste zdot pron salad little dry drizzle olive oil toss zdot</td>\n      <td>Instructions</td>\n      <td>Instructions</td>\n    </tr>\n    <tr>\n      <th>557</th>\n      <td>znum tablespoon extra virgin olive oil znum small onion chop znum carrot chop znum tablespoon finely chop rosemary znum garlic clove mince znum medium roma vine tomato dice znum teaspoon red pepper flake znum tablespoon white wine znum cup cook cannellini bean drain rinse znum cup vegetable broth znum large lacinato kale leave thinly slice coarse stem remove znum thick slice stale ciabatta bread cube balsamic vinegar drizzle znum cup shave parmesan cheese optional sea salt freshly ground black pepper</td>\n      <td>Instructions</td>\n      <td>Recepie</td>\n    </tr>\n    <tr>\n      <th>558</th>\n      <td>znum cup cube extra firm tofu extra virgin olive oil drizzle znum teaspoon sriracha znum cups broccolini chop znum inch piece znum cup green bean chop znum inch piece znum scallion chop znum inch piece znum radish halved quarter pinch red pepper flake lime wedge serve znum cup roasted sugar pie pumpkin mash znum znum cup light coconut milk znum teaspoon red curry paste znum garlic clove znum tablespoon fresh lime juice sea salt freshly ground black pepper znum znum tablespoon water need thin</td>\n      <td>Instructions</td>\n      <td>Recepie</td>\n    </tr>\n    <tr>\n      <th>559</th>\n      <td>large bowl combine flaxseed water banana zdot mash stir combine zdot let mixture sit znum minute thicken zdot add olive oil vanilla almond milk whisk zdot add flour sprinkle baking powder baking soda cinnamon nutmeg salt evenly zdot stir ingredient combine batter bit lumpy zdot batter bit thick pron znum s thick scoop stir additional znum tablespoon almond milk zdot</td>\n      <td>Instructions</td>\n      <td>Instructions</td>\n    </tr>\n    <tr>\n      <th>560</th>\n      <td>garnish drizzle coconut milk desire zdot</td>\n      <td>Instructions</td>\n      <td>Instructions</td>\n    </tr>\n    <tr>\n      <th>561</th>\n      <td>bake znum znum minute egg set edge lightly golden brown zdot let casserole sit znum minute slice zdot</td>\n      <td>Instructions</td>\n      <td>Instructions</td>\n    </tr>\n    <tr>\n      <th>562</th>\n      <td>dust znum large baking sheet flour set aside zdot</td>\n      <td>Instructions</td>\n      <td>Instructions</td>\n    </tr>\n    <tr>\n      <th>563</th>\n      <td>stir dry wet mix zdot</td>\n      <td>Instructions</td>\n      <td>Instructions</td>\n    </tr>\n    <tr>\n      <th>564</th>\n      <td>stuffing zdot large skillet heat oil medium heat zdot add onion cook minute pron start soften zdot add carrot celery pinche salt pepper continue cook vegetable soften znum minute zdot add poblanos garlic sage oregano cook minute zdot deglaze pan white wine zdot add corn scallion currant kale salt cook minute kale wilt zdot remove pan heat set aside zdot</td>\n      <td>Instructions</td>\n      <td>Instructions</td>\n    </tr>\n    <tr>\n      <th>565</th>\n      <td>cook pasta pot salt boiling water al dente zdot</td>\n      <td>Instructions</td>\n      <td>Instructions</td>\n    </tr>\n    <tr>\n      <th>566</th>\n      <td>cut pumpkin half scoop seed zdot drizzle olive oil pinche salt pepper place baking sheet cut zdot roast znum znum minute soft zdot cool touch peel away skin measure znum packed cup flesh zdot</td>\n      <td>Instructions</td>\n      <td>Instructions</td>\n    </tr>\n    <tr>\n      <th>567</th>\n      <td>assemble dumpling scoop znum heap teaspoon filling wrapper zdot use pron finger dab edge wrapper cold water fold half filling press seal zdot fold znum pleat wrapper crescent zdot</td>\n      <td>Instructions</td>\n      <td>Instructions</td>\n    </tr>\n    <tr>\n      <th>568</th>\n      <td>znum cup cook wheat berry roast butternut squash cube znum small squash znum medium shallot chop znum inch piece znum cup znum cup fresh sage leave znum extra virgin olive oil drizzle apple cider vinegar dressing znum bunch lacinato kale stem znum cup toast walnut chop znum cup dry cranberry znum cup chop parsley znum tablespoon fresh thyme znum cup shave pecorino cheese sea salt freshly ground black pepper</td>\n      <td>Instructions</td>\n      <td>Recepie</td>\n    </tr>\n    <tr>\n      <th>569</th>\n      <td>large bowl mix brown rice cereal almond hemp seed coconut salt zdot</td>\n      <td>Instructions</td>\n      <td>Instructions</td>\n    </tr>\n    <tr>\n      <th>570</th>\n      <td>preheat oven znum f line large baking sheet parchment paper zdot</td>\n      <td>Instructions</td>\n      <td>Instructions</td>\n    </tr>\n    <tr>\n      <th>571</th>\n      <td>toss cubed pumpkin znum squash bit olive oil salt znum pepper zdot spread baking sheet roast golden brown edge znum znum min depend pron squash zdot</td>\n      <td>Instructions</td>\n      <td>Instructions</td>\n    </tr>\n    <tr>\n      <th>572</th>\n      <td>preheat oven znum f lightly grease znum baking dish nonstick spray olive oil zdot</td>\n      <td>Instructions</td>\n      <td>Instructions</td>\n    </tr>\n    <tr>\n      <th>573</th>\n      <td>remove heat add squeeze lime juice stir cilantro zdot taste adjust seasoning zdot</td>\n      <td>Instructions</td>\n      <td>Instructions</td>\n    </tr>\n    <tr>\n      <th>574</th>\n      <td>pron artichoke roast pesto zdot combine pine nut garlic small food processor zdot pulse add pea lemon juice dijon mustard spinach mint zdot blend combine zdot add olive oil blend smooth smooth pron like zdot</td>\n      <td>Instructions</td>\n      <td>Instructions</td>\n    </tr>\n    <tr>\n      <th>575</th>\n      <td>cook pasta large pot salt boiling water zdot</td>\n      <td>Instructions</td>\n      <td>Instructions</td>\n    </tr>\n    <tr>\n      <th>576</th>\n      <td>add reserved broth simmer znum minute add bok choy zdot simmer bok choy tender vibrant green znum znum minute zdot</td>\n      <td>Instructions</td>\n      <td>Instructions</td>\n    </tr>\n    <tr>\n      <th>577</th>\n      <td>place bean large bowl zdot discard stone debris zdot cover znum znum inch water discard bean float zdot soak room temperature znum hour overnight zdot drain rinse zdot</td>\n      <td>Instructions</td>\n      <td>Instructions</td>\n    </tr>\n    <tr>\n      <th>578</th>\n      <td>stir sweet potato broth mixture saut znum ed onion zdot increase heat high bring mixture boil zdot lower heat medium add znum teaspoon salt simmer uncover stir occasionally znum minute sweet potato tender zdot</td>\n      <td>Instructions</td>\n      <td>Instructions</td>\n    </tr>\n    <tr>\n      <th>579</th>\n      <td>sprinkle cookie sanding sugar bake znum znum minute zdot</td>\n      <td>Instructions</td>\n      <td>Instructions</td>\n    </tr>\n    <tr>\n      <th>580</th>\n      <td>heat medium skillet medium heat zdot brush pan little bit oil cook quesadilla minute tortilla golden brown cheese melt zdot</td>\n      <td>Instructions</td>\n      <td>Instructions</td>\n    </tr>\n    <tr>\n      <th>581</th>\n      <td>znum small japanese eggplant chop znum inch piece znum cup chop summer squash znum red bell pepper chop znum inch piece znum cup cherry tomato slice extra virgin olive oil drizzle znum tortillas znum cup cook black bean drain rinse znum avocados dice chop cilantro znum serrano pepper slice optional crumble cotija cheese optional sea salt freshly ground black pepper znum cup tomatillo salsa znum cup pepitas znum avocado handful spinach znum tablespoon extra virgin olive oil lime juice taste sea salt freshly ground black pepper</td>\n      <td>Instructions</td>\n      <td>Recepie</td>\n    </tr>\n    <tr>\n      <th>582</th>\n      <td>char pepper gas burner broiler skin blacken zdot</td>\n      <td>Instructions</td>\n      <td>Instructions</td>\n    </tr>\n    <tr>\n      <th>583</th>\n      <td>heat oil large pot medium heat zdot add onion znum teaspoon salt grind pepper cook stir occasionally znum minute zdot add carrot sweet potato stir cook znum minute zdot</td>\n      <td>Instructions</td>\n      <td>Instructions</td>\n    </tr>\n    <tr>\n      <th>584</th>\n      <td>marinate tuna soy sauce ginger pepper zdot let pron sit znum minute hour fridge zdot</td>\n      <td>Instructions</td>\n      <td>Instructions</td>\n    </tr>\n    <tr>\n      <th>585</th>\n      <td>znum cup wheat pastry flour znum znum purpose flour znum cup cocoa powder znum tablespoon baking powder znum teaspoon baking soda znum teaspoon sea salt znum teaspoon cinnamon znum teaspoon nutmeg znum eggs znum cups almond milk room temp znum cup coconut oil melt znum cup maple syrup znum teaspoon vanilla extract znum cup shred unpeeled zucchini znum cup semisweet chocolate chip sprinkle</td>\n      <td>Instructions</td>\n      <td>Recepie</td>\n    </tr>\n    <tr>\n      <th>586</th>\n      <td>znum large carrot sea salt coat znum tablespoon extra virgin olive oil znum tablespoon rice vinegar znum teaspoon smoke paprika big squeeze fresh lemon juice freshly grind black pepper bagel vegan cream cheese cucumber slice caper chive znum dill</td>\n      <td>Instructions</td>\n      <td>Recepie</td>\n    </tr>\n    <tr>\n      <th>587</th>\n      <td>scrape white bean puree pot stir combine zdot quinoa creamy consistency dry zdot pron dry add good splash vegetable stock zdot</td>\n      <td>Instructions</td>\n      <td>Instructions</td>\n    </tr>\n    <tr>\n      <th>588</th>\n      <td>high speed blender combine ingredient zdot blend smooth zdot</td>\n      <td>Instructions</td>\n      <td>Instructions</td>\n    </tr>\n    <tr>\n      <th>589</th>\n      <td>turn heat low add noodle pan drizzle sauce zdot pron use pron pron sweet start half add later pron taste zdot add tofu pan handful green scallion toss zdot taste add sauce salt pepper pron wish zdot</td>\n      <td>Instructions</td>\n      <td>Instructions</td>\n    </tr>\n    <tr>\n      <th>590</th>\n      <td>place vegetable chickpea large baking sheet pron touch closely use znum sheet pron zdot drizzle toss olive oil salt pepper zdot roast golden brown znum znum minute total look znum remove broccoli necessary zdot</td>\n      <td>Instructions</td>\n      <td>Instructions</td>\n    </tr>\n    <tr>\n      <th>591</th>\n      <td>arrange squash cube baking sheet toss little bit olive oil zdot roast znum znum minute tender zdot note zdot squash need golden brown soft zdot</td>\n      <td>Instructions</td>\n      <td>Instructions</td>\n    </tr>\n    <tr>\n      <th>592</th>\n      <td>shawarma spice mix zdot small bowl combine coriander paprika cumin cinnamon ginger cayenne pinche salt pepper zdot use generous pinche season chickpeas roast pron zdot</td>\n      <td>Instructions</td>\n      <td>Instructions</td>\n    </tr>\n    <tr>\n      <th>593</th>\n      <td>preheat pron oven znum f zdot</td>\n      <td>Instructions</td>\n      <td>Instructions</td>\n    </tr>\n    <tr>\n      <th>594</th>\n      <td>toss sweet potato olive oil salt pepper spread baking sheet zdot roast znum minute golden brown zdot</td>\n      <td>Instructions</td>\n      <td>Instructions</td>\n    </tr>\n    <tr>\n      <th>595</th>\n      <td>mix chop avocado serve zdot taste znum adjust zdot</td>\n      <td>Instructions</td>\n      <td>Instructions</td>\n    </tr>\n    <tr>\n      <th>596</th>\n      <td>preheat oven znum f line znum inch bake pan parchment paper zdot lightly spray exposed pan nonstick cook spray zdot</td>\n      <td>Instructions</td>\n      <td>Instructions</td>\n    </tr>\n    <tr>\n      <th>597</th>\n      <td>znum ounces apple juice znum cinnamon sticks znum star anise pod znum ounce stoli premium vodka znum tablespoon fresh squeeze lemon ice znum oz zdot bottle spark water optional apple slice garnish</td>\n      <td>Instructions</td>\n      <td>Recepie</td>\n    </tr>\n    <tr>\n      <th>598</th>\n      <td>spicy vegan cheese add chipotle pepper pickle jalape znum os zdot pron znum d like smoky flavor add smoke paprika zdot</td>\n      <td>Instructions</td>\n      <td>Instructions</td>\n    </tr>\n    <tr>\n      <th>599</th>\n      <td>znum tablespoon extra virgin olive oil drizzle znum yellow onion coarsely chop znum pound eggplant stem cut znum inch piece znum teaspoon sea salt divide znum garlic clove chop znum cup cherry tomatoes divide znum red yellow bell pepper stem seeded cut znum inch piece znum medium zucchini halve slice znum inch thick half moon znum tablespoon fresh thyme leave znum teaspoon herbe de provence znum teaspoon dry oregano freshly grind black pepper pinch red pepper flake znum tablespoon white wine vinegar divide fresh basil znum thyme leave garnish</td>\n      <td>Instructions</td>\n      <td>Recepie</td>\n    </tr>\n  </tbody>\n</table>\n</div>"
     },
     "execution_count": 34,
     "metadata": {},
     "output_type": "execute_result"
    }
   ],
   "source": [
    "THRESHOLD=0.5\n",
    "preds = model.predict(X_test)\n",
    "\n",
    "pred_df = pd.DataFrame(columns=['text', 'pred_label'])\n",
    "pred_df['text'] = text_test\n",
    "pred_df['pred_label'] = preds\n",
    "pred_df['label'] = y_test\n",
    "pred_df['label'] = pred_df['label'].apply(lambda x: 'Instructions' if x==0 else 'Recepie')\n",
    "pred_df['pred_label'] = pred_df['pred_label'].apply(lambda x: 'Recepie' if x > THRESHOLD else 'Instructions')\n",
    "pred_df[548:600]"
   ]
  },
  {
   "cell_type": "code",
   "execution_count": 35,
   "metadata": {},
   "outputs": [],
   "source": [
    "model.save('/Users/karlestermann/PycharmProjects/ai_assignment_aidock/data/simpleNN_model.h5')"
   ]
  },
  {
   "cell_type": "markdown",
   "metadata": {},
   "source": [
    "### LSTM"
   ]
  },
  {
   "cell_type": "code",
   "execution_count": 36,
   "metadata": {},
   "outputs": [
    {
     "name": "stdout",
     "output_type": "stream",
     "text": [
      "Collecting the model\n",
      "Model: \"sequential_1\"\n",
      "_________________________________________________________________\n",
      "Layer (type)                 Output Shape              Param #   \n",
      "=================================================================\n",
      "embedding_1 (Embedding)      (None, None, 256)         633344    \n",
      "_________________________________________________________________\n",
      "lstm (LSTM)                  (None, 64)                82176     \n",
      "_________________________________________________________________\n",
      "dense_1 (Dense)              (None, 1)                 65        \n",
      "=================================================================\n",
      "Total params: 715,585\n",
      "Trainable params: 715,585\n",
      "Non-trainable params: 0\n",
      "_________________________________________________________________\n",
      "None\n"
     ]
    }
   ],
   "source": [
    "from tensorflow.keras.models import Sequential\n",
    "from tensorflow.keras.layers import Dense, Embedding, LSTM\n",
    "\n",
    "# max count word to analize\n",
    "# max_features = len(X_train)\n",
    "# NUM_WORDS=2000 # we will use\n",
    "SEQ_LEN=121 # max len sequence\n",
    "EMBEDDING_SIZE=256\n",
    "BATCH_SIZE=128\n",
    "EPOCHS=200\n",
    "THRESHOLD=0.5\n",
    "\n",
    "print(u'Collecting the model')\n",
    "lstm = Sequential()\n",
    "lstm.add(Embedding(vocab_size_train, EMBEDDING_SIZE, mask_zero=True))\n",
    "lstm.add(LSTM(64, dropout=0.3, recurrent_dropout=0.3))\n",
    "lstm.add(Dense(1, activation='relu'))\n",
    "\n",
    "lstm.compile(loss='binary_crossentropy',\n",
    "              optimizer='adam',\n",
    "              metrics=['accuracy'])\n",
    "\n",
    "print (lstm.summary())"
   ]
  },
  {
   "cell_type": "code",
   "execution_count": 37,
   "metadata": {
    "scrolled": true
   },
   "outputs": [
    {
     "name": "stdout",
     "output_type": "stream",
     "text": [
      "Model training\n",
      "Epoch 1/100\n",
      "25/25 [==============================] - 0s 13ms/step - loss: 0.4981 - accuracy: 0.7970 - val_loss: 0.4601 - val_accuracy: 0.8013\b\b\b\b\b\b\b\b\b\b\b\b\b\b\b\b\b\b\b\b\b\b\b\b\b\b\b\b\b\b\b\b\b\b\b\b\b\b\b\b\b\b\b\b\b\b\b\b\b\b\b\b\b\b\b\b\b\b\b\b\b\b\b\b\b\b\b\b\b\b\b\b\b\b\b\b\b\b\b\b\b\b\b\b\b\b\b\b\b\b\b\b\b\b\b\b\b\b\b\b\b\b\b\b\b\b\b\b\b\b\b\b\b\b\b\b\b\b\b\b\b\b\b\b\b\b\b\b\b\b\b\b\b\b\b\b\b\b\b\b\b\b\b\b\b\b\b\b\b\b\b\b\b\b\b\b\b\b\b\b\b\b\b\b\b\b\b\b\b\b\b\b\b\b\b\b\b\b\b\b\b\b\b\b\b\b\b\b\b\b\b\b\b\b\b\b\b\b\b\b\b\b\b\b\b\b\b\b\b\b\b\b\b\b\b\b\b\b\b\b\b\b\b\b\b\b\b\b\b\b\b\b\b\b\b\b\b\b\b\b\b\b\b\b\b\b\b\b\b\b\b\b\b\b\b\b\b\b\b\b\b\b\b\b\b\b\b\b\b\b\b\b\b\b\b\b\b\b\b\b\b\n"
     ]
    }
   ],
   "source": [
    "\n",
    "es = tf.keras.callbacks.EarlyStopping(monitor='val_loss'\n",
    "          , mode='min')\n",
    "callbacks=[es]\n",
    "\n",
    "print(u'Model training')\n",
    "history = model.fit(X_train, y_train,\n",
    "          batch_size=BATCH_SIZE,\n",
    "          epochs=100,\n",
    "          validation_split=0.2,\n",
    "          callbacks=callbacks)\n"
   ]
  },
  {
   "cell_type": "code",
   "execution_count": 38,
   "metadata": {
    "scrolled": true
   },
   "outputs": [
    {
     "name": "stdout",
     "output_type": "stream",
     "text": [
      "8/8 [==============================] - 0s 3ms/step - loss: 0.4727 - accuracy: 0.7975\b\b\b\b\b\b\b\b\b\b\b\b\b\b\b\b\b\b\b\b\b\b\b\b\b\b\b\b\b\b\b\b\b\b\b\b\b\b\b\b\b\b\b\b\b\b\b\b\b\b\b\b\b\b\b\b\b\b\b\b\b\b\b\b\b\b\b\b\b\b\b\b\b\b\b\b\n",
      "\n",
      "Model Loss score: 0.47268185019493103\n",
      "Model Accuracy Evaluation : 0.797533392906189\n"
     ]
    }
   ],
   "source": [
    "score = model.evaluate(X_test, y_test,\n",
    "                       batch_size=BATCH_SIZE, verbose=1)\n",
    "print()\n",
    "print(u'Model Loss score: {}'.format(score[0]))\n",
    "print(u'Model Accuracy Evaluation : {}'.format(score[1]))\n"
   ]
  },
  {
   "cell_type": "code",
   "execution_count": 39,
   "metadata": {},
   "outputs": [
    {
     "data": {
      "text/plain": "<Figure size 1080x288 with 1 Axes>",
      "image/png": "[encoded data removed]"
     },
     "metadata": {
      "needs_background": "light"
     },
     "output_type": "display_data"
    }
   ],
   "source": [
    "import matplotlib.pyplot as plt\n",
    "%matplotlib inline\n",
    "import warnings\n",
    "warnings.simplefilter(action='ignore')\n",
    "warnings.filterwarnings('ignore')\n",
    "\n",
    "#plot the accuracy\n",
    "plt.figure(figsize=(15,4))\n",
    "plt.plot(history.history['loss'],'r', label='loss')\n",
    "plt.plot(history.history['val_loss'],'g--', label = 'val_loss')\n",
    "plt.xlabel('Epoch')\n",
    "plt.ylabel('Accuracy')\n",
    "# plt.ylim([0, 0.5])\n",
    "# plt.xlim([0, 20])\n",
    "plt.title('The accuracy vs val_accuracy LSTM, activation = relu')\n",
    "plt.legend(loc='best');"
   ]
  },
  {
   "cell_type": "code",
   "execution_count": 40,
   "metadata": {},
   "outputs": [
    {
     "data": {
      "text/plain": "                                                                                                                                                                                                                                                                                                                                                                                                                                                                                                                                                                     text  \\\n548                                                                                                                                                                                                                                                                                                                                                                                                                                                                   medium bowl mix mango onion cilantro lime juice garlic jalape znum o salt zdot chill ready use zdot   \n549                                                                                                                                                                                                                                                                                                                                                                                                                                                                add chopped chard leave macaroni noodle fennel frond continue simmer noodle cook zdot znum minute zdot   \n550                                                                                                                                                                                                                                                                                                                                                                                                                          znum cup gin znum tablespoon meyer lemon juice znum tablespoon agave nectar splash ginger juice znum splash sparkle water lemon peel garnish   \n551                                                                                                                                                                                                                                                                                                                                                  steamer basket pot simmer water steam carrot cover tender znum znum minute zdot remove set aside zdot steam broccoli tender bright green znum znum minute zdot lastly steam kale tender znum second znum minute zdot   \n552                                                                                                                                                                                                                                                                                                                                                                                                                                                            small food processor combine egg yolks mayo yogurt relish mustard pulse smooth zdot season taste salt zdot   \n553                                                                                                                                                                     roast vegetable zdot place parsnip brussels sprout cauliflower large baking sheet zdot place broccolini second baking sheet zdot drizzle vegetable olive oil pinche salt pepper toss coat spread evenly sheet zdot roast parsnip znum brussels sprout znum cauliflower znum znum minute golden brown edge zdot roast broccolini znum znum minute tender zdot cool touch chop broccolini stem zdot   \n554                                                                                                                                                                                                                                                                                                                                                                              pour batter prepare pan use offset spatula gently smooth sure apple dispersed way edge pan zdot tap pan gently counter release air bubble zdot sprinkle remaining znum cup nut cake zdot   \n555                                                                                                                                                                                                                                                                                                                                                                                                                                                                                                         medium bowl whisk flour ground almond baking powder salt zdot   \n556                                                                                                                                                                                                                                                                                                                                                                                                                                                                        taste add salt pepper lemon juice taste zdot pron salad little dry drizzle olive oil toss zdot   \n557                                             znum tablespoon extra virgin olive oil znum small onion chop znum carrot chop znum tablespoon finely chop rosemary znum garlic clove mince znum medium roma vine tomato dice znum teaspoon red pepper flake znum tablespoon white wine znum cup cook cannellini bean drain rinse znum cup vegetable broth znum large lacinato kale leave thinly slice coarse stem remove znum thick slice stale ciabatta bread cube balsamic vinegar drizzle znum cup shave parmesan cheese optional sea salt freshly ground black pepper   \n558                                                      znum cup cube extra firm tofu extra virgin olive oil drizzle znum teaspoon sriracha znum cups broccolini chop znum inch piece znum cup green bean chop znum inch piece znum scallion chop znum inch piece znum radish halved quarter pinch red pepper flake lime wedge serve znum cup roasted sugar pie pumpkin mash znum znum cup light coconut milk znum teaspoon red curry paste znum garlic clove znum tablespoon fresh lime juice sea salt freshly ground black pepper znum znum tablespoon water need thin   \n559                                                                                                                                                                                      large bowl combine flaxseed water banana zdot mash stir combine zdot let mixture sit znum minute thicken zdot add olive oil vanilla almond milk whisk zdot add flour sprinkle baking powder baking soda cinnamon nutmeg salt evenly zdot stir ingredient combine batter bit lumpy zdot batter bit thick pron znum s thick scoop stir additional znum tablespoon almond milk zdot   \n560                                                                                                                                                                                                                                                                                                                                                                                                                                                                                                                              garnish drizzle coconut milk desire zdot   \n561                                                                                                                                                                                                                                                                                                                                                                                                                                                                 bake znum znum minute egg set edge lightly golden brown zdot let casserole sit znum minute slice zdot   \n562                                                                                                                                                                                                                                                                                                                                                                                                                                                                                                                     dust znum large baking sheet flour set aside zdot   \n563                                                                                                                                                                                                                                                                                                                                                                                                                                                                                                                                                 stir dry wet mix zdot   \n564                                                                                                                                                                                                   stuffing zdot large skillet heat oil medium heat zdot add onion cook minute pron start soften zdot add carrot celery pinche salt pepper continue cook vegetable soften znum minute zdot add poblanos garlic sage oregano cook minute zdot deglaze pan white wine zdot add corn scallion currant kale salt cook minute kale wilt zdot remove pan heat set aside zdot   \n565                                                                                                                                                                                                                                                                                                                                                                                                                                                                                                                       cook pasta pot salt boiling water al dente zdot   \n566                                                                                                                                                                                                                                                                                                                                                                       cut pumpkin half scoop seed zdot drizzle olive oil pinche salt pepper place baking sheet cut zdot roast znum znum minute soft zdot cool touch peel away skin measure znum packed cup flesh zdot   \n567                                                                                                                                                                                                                                                                                                                                                                                   assemble dumpling scoop znum heap teaspoon filling wrapper zdot use pron finger dab edge wrapper cold water fold half filling press seal zdot fold znum pleat wrapper crescent zdot   \n568                                                                                                                                            znum cup cook wheat berry roast butternut squash cube znum small squash znum medium shallot chop znum inch piece znum cup znum cup fresh sage leave znum extra virgin olive oil drizzle apple cider vinegar dressing znum bunch lacinato kale stem znum cup toast walnut chop znum cup dry cranberry znum cup chop parsley znum tablespoon fresh thyme znum cup shave pecorino cheese sea salt freshly ground black pepper   \n569                                                                                                                                                                                                                                                                                                                                                                                                                                                                                                   large bowl mix brown rice cereal almond hemp seed coconut salt zdot   \n570                                                                                                                                                                                                                                                                                                                                                                                                                                                                                                      preheat oven znum f line large baking sheet parchment paper zdot   \n571                                                                                                                                                                                                                                                                                                                                                                                                                  toss cubed pumpkin znum squash bit olive oil salt znum pepper zdot spread baking sheet roast golden brown edge znum znum min depend pron squash zdot   \n572                                                                                                                                                                                                                                                                                                                                                                                                                                                                                     preheat oven znum f lightly grease znum baking dish nonstick spray olive oil zdot   \n573                                                                                                                                                                                                                                                                                                                                                                                                                                                                                     remove heat add squeeze lime juice stir cilantro zdot taste adjust seasoning zdot   \n574                                                                                                                                                                                                                                                                                                                                                       pron artichoke roast pesto zdot combine pine nut garlic small food processor zdot pulse add pea lemon juice dijon mustard spinach mint zdot blend combine zdot add olive oil blend smooth smooth pron like zdot   \n575                                                                                                                                                                                                                                                                                                                                                                                                                                                                                                                          cook pasta large pot salt boiling water zdot   \n576                                                                                                                                                                                                                                                                                                                                                                                                                                                    add reserved broth simmer znum minute add bok choy zdot simmer bok choy tender vibrant green znum znum minute zdot   \n577                                                                                                                                                                                                                                                                                                                                                                                               place bean large bowl zdot discard stone debris zdot cover znum znum inch water discard bean float zdot soak room temperature znum hour overnight zdot drain rinse zdot   \n578                                                                                                                                                                                                                                                                                                                                                     stir sweet potato broth mixture saut znum ed onion zdot increase heat high bring mixture boil zdot lower heat medium add znum teaspoon salt simmer uncover stir occasionally znum minute sweet potato tender zdot   \n579                                                                                                                                                                                                                                                                                                                                                                                                                                                                                                              sprinkle cookie sanding sugar bake znum znum minute zdot   \n580                                                                                                                                                                                                                                                                                                                                                                                                                                           heat medium skillet medium heat zdot brush pan little bit oil cook quesadilla minute tortilla golden brown cheese melt zdot   \n581                   znum small japanese eggplant chop znum inch piece znum cup chop summer squash znum red bell pepper chop znum inch piece znum cup cherry tomato slice extra virgin olive oil drizzle znum tortillas znum cup cook black bean drain rinse znum avocados dice chop cilantro znum serrano pepper slice optional crumble cotija cheese optional sea salt freshly ground black pepper znum cup tomatillo salsa znum cup pepitas znum avocado handful spinach znum tablespoon extra virgin olive oil lime juice taste sea salt freshly ground black pepper   \n582                                                                                                                                                                                                                                                                                                                                                                                                                                                                                                                      char pepper gas burner broiler skin blacken zdot   \n583                                                                                                                                                                                                                                                                                                                                                                                              heat oil large pot medium heat zdot add onion znum teaspoon salt grind pepper cook stir occasionally znum minute zdot add carrot sweet potato stir cook znum minute zdot   \n584                                                                                                                                                                                                                                                                                                                                                                                                                                                                                  marinate tuna soy sauce ginger pepper zdot let pron sit znum minute hour fridge zdot   \n585                                                                                                                                                               znum cup wheat pastry flour znum znum purpose flour znum cup cocoa powder znum tablespoon baking powder znum teaspoon baking soda znum teaspoon sea salt znum teaspoon cinnamon znum teaspoon nutmeg znum eggs znum cups almond milk room temp znum cup coconut oil melt znum cup maple syrup znum teaspoon vanilla extract znum cup shred unpeeled zucchini znum cup semisweet chocolate chip sprinkle   \n586                                                                                                                                                                                                                                                                                                                znum large carrot sea salt coat znum tablespoon extra virgin olive oil znum tablespoon rice vinegar znum teaspoon smoke paprika big squeeze fresh lemon juice freshly grind black pepper bagel vegan cream cheese cucumber slice caper chive znum dill   \n587                                                                                                                                                                                                                                                                                                                                                                                                                                        scrape white bean puree pot stir combine zdot quinoa creamy consistency dry zdot pron dry add good splash vegetable stock zdot   \n588                                                                                                                                                                                                                                                                                                                                                                                                                                                                                                          high speed blender combine ingredient zdot blend smooth zdot   \n589                                                                                                                                                                                                                                                                                                                                                                turn heat low add noodle pan drizzle sauce zdot pron use pron pron sweet start half add later pron taste zdot add tofu pan handful green scallion toss zdot taste add sauce salt pepper pron wish zdot   \n590                                                                                                                                                                                                                                                                                                                                                    place vegetable chickpea large baking sheet pron touch closely use znum sheet pron zdot drizzle toss olive oil salt pepper zdot roast golden brown znum znum minute total look znum remove broccoli necessary zdot   \n591                                                                                                                                                                                                                                                                                                                                                                                                                       arrange squash cube baking sheet toss little bit olive oil zdot roast znum znum minute tender zdot note zdot squash need golden brown soft zdot   \n592                                                                                                                                                                                                                                                                                                                                                                                               shawarma spice mix zdot small bowl combine coriander paprika cumin cinnamon ginger cayenne pinche salt pepper zdot use generous pinche season chickpeas roast pron zdot   \n593                                                                                                                                                                                                                                                                                                                                                                                                                                                                                                                                         preheat pron oven znum f zdot   \n594                                                                                                                                                                                                                                                                                                                                                                                                                                                                  toss sweet potato olive oil salt pepper spread baking sheet zdot roast znum minute golden brown zdot   \n595                                                                                                                                                                                                                                                                                                                                                                                                                                                                                                                    mix chop avocado serve zdot taste znum adjust zdot   \n596                                                                                                                                                                                                                                                                                                                                                                                                                                                   preheat oven znum f line znum inch bake pan parchment paper zdot lightly spray exposed pan nonstick cook spray zdot   \n597                                                                                                                                                                                                                                                                                                                                                                  znum ounces apple juice znum cinnamon sticks znum star anise pod znum ounce stoli premium vodka znum tablespoon fresh squeeze lemon ice znum oz zdot bottle spark water optional apple slice garnish   \n598                                                                                                                                                                                                                                                                                                                                                                                                                                                spicy vegan cheese add chipotle pepper pickle jalape znum os zdot pron znum d like smoky flavor add smoke paprika zdot   \n599  znum tablespoon extra virgin olive oil drizzle znum yellow onion coarsely chop znum pound eggplant stem cut znum inch piece znum teaspoon sea salt divide znum garlic clove chop znum cup cherry tomatoes divide znum red yellow bell pepper stem seeded cut znum inch piece znum medium zucchini halve slice znum inch thick half moon znum tablespoon fresh thyme leave znum teaspoon herbe de provence znum teaspoon dry oregano freshly grind black pepper pinch red pepper flake znum tablespoon white wine vinegar divide fresh basil znum thyme leave garnish   \n\n       pred_label         label  \n548  Instructions  Instructions  \n549  Instructions  Instructions  \n550  Instructions       Recepie  \n551  Instructions  Instructions  \n552  Instructions  Instructions  \n553  Instructions  Instructions  \n554  Instructions  Instructions  \n555  Instructions  Instructions  \n556  Instructions  Instructions  \n557  Instructions       Recepie  \n558  Instructions       Recepie  \n559  Instructions  Instructions  \n560  Instructions  Instructions  \n561  Instructions  Instructions  \n562  Instructions  Instructions  \n563  Instructions  Instructions  \n564  Instructions  Instructions  \n565  Instructions  Instructions  \n566  Instructions  Instructions  \n567  Instructions  Instructions  \n568  Instructions       Recepie  \n569  Instructions  Instructions  \n570  Instructions  Instructions  \n571  Instructions  Instructions  \n572  Instructions  Instructions  \n573  Instructions  Instructions  \n574  Instructions  Instructions  \n575  Instructions  Instructions  \n576  Instructions  Instructions  \n577  Instructions  Instructions  \n578  Instructions  Instructions  \n579  Instructions  Instructions  \n580  Instructions  Instructions  \n581  Instructions       Recepie  \n582  Instructions  Instructions  \n583  Instructions  Instructions  \n584  Instructions  Instructions  \n585  Instructions       Recepie  \n586  Instructions       Recepie  \n587  Instructions  Instructions  \n588  Instructions  Instructions  \n589  Instructions  Instructions  \n590  Instructions  Instructions  \n591  Instructions  Instructions  \n592  Instructions  Instructions  \n593  Instructions  Instructions  \n594  Instructions  Instructions  \n595  Instructions  Instructions  \n596  Instructions  Instructions  \n597  Instructions       Recepie  \n598  Instructions  Instructions  \n599  Instructions       Recepie  ",
      "text/html": "<div>\n<style scoped>\n    .dataframe tbody tr th:only-of-type {\n        vertical-align: middle;\n    }\n\n    .dataframe tbody tr th {\n        vertical-align: top;\n    }\n\n    .dataframe thead th {\n        text-align: right;\n    }\n</style>\n<table border=\"1\" class=\"dataframe\">\n  <thead>\n    <tr style=\"text-align: right;\">\n      <th></th>\n      <th>text</th>\n      <th>pred_label</th>\n      <th>label</th>\n    </tr>\n  </thead>\n  <tbody>\n    <tr>\n      <th>548</th>\n      <td>medium bowl mix mango onion cilantro lime juice garlic jalape znum o salt zdot chill ready use zdot</td>\n      <td>Instructions</td>\n      <td>Instructions</td>\n    </tr>\n    <tr>\n      <th>549</th>\n      <td>add chopped chard leave macaroni noodle fennel frond continue simmer noodle cook zdot znum minute zdot</td>\n      <td>Instructions</td>\n      <td>Instructions</td>\n    </tr>\n    <tr>\n      <th>550</th>\n      <td>znum cup gin znum tablespoon meyer lemon juice znum tablespoon agave nectar splash ginger juice znum splash sparkle water lemon peel garnish</td>\n      <td>Instructions</td>\n      <td>Recepie</td>\n    </tr>\n    <tr>\n      <th>551</th>\n      <td>steamer basket pot simmer water steam carrot cover tender znum znum minute zdot remove set aside zdot steam broccoli tender bright green znum znum minute zdot lastly steam kale tender znum second znum minute zdot</td>\n      <td>Instructions</td>\n      <td>Instructions</td>\n    </tr>\n    <tr>\n      <th>552</th>\n      <td>small food processor combine egg yolks mayo yogurt relish mustard pulse smooth zdot season taste salt zdot</td>\n      <td>Instructions</td>\n      <td>Instructions</td>\n    </tr>\n    <tr>\n      <th>553</th>\n      <td>roast vegetable zdot place parsnip brussels sprout cauliflower large baking sheet zdot place broccolini second baking sheet zdot drizzle vegetable olive oil pinche salt pepper toss coat spread evenly sheet zdot roast parsnip znum brussels sprout znum cauliflower znum znum minute golden brown edge zdot roast broccolini znum znum minute tender zdot cool touch chop broccolini stem zdot</td>\n      <td>Instructions</td>\n      <td>Instructions</td>\n    </tr>\n    <tr>\n      <th>554</th>\n      <td>pour batter prepare pan use offset spatula gently smooth sure apple dispersed way edge pan zdot tap pan gently counter release air bubble zdot sprinkle remaining znum cup nut cake zdot</td>\n      <td>Instructions</td>\n      <td>Instructions</td>\n    </tr>\n    <tr>\n      <th>555</th>\n      <td>medium bowl whisk flour ground almond baking powder salt zdot</td>\n      <td>Instructions</td>\n      <td>Instructions</td>\n    </tr>\n    <tr>\n      <th>556</th>\n      <td>taste add salt pepper lemon juice taste zdot pron salad little dry drizzle olive oil toss zdot</td>\n      <td>Instructions</td>\n      <td>Instructions</td>\n    </tr>\n    <tr>\n      <th>557</th>\n      <td>znum tablespoon extra virgin olive oil znum small onion chop znum carrot chop znum tablespoon finely chop rosemary znum garlic clove mince znum medium roma vine tomato dice znum teaspoon red pepper flake znum tablespoon white wine znum cup cook cannellini bean drain rinse znum cup vegetable broth znum large lacinato kale leave thinly slice coarse stem remove znum thick slice stale ciabatta bread cube balsamic vinegar drizzle znum cup shave parmesan cheese optional sea salt freshly ground black pepper</td>\n      <td>Instructions</td>\n      <td>Recepie</td>\n    </tr>\n    <tr>\n      <th>558</th>\n      <td>znum cup cube extra firm tofu extra virgin olive oil drizzle znum teaspoon sriracha znum cups broccolini chop znum inch piece znum cup green bean chop znum inch piece znum scallion chop znum inch piece znum radish halved quarter pinch red pepper flake lime wedge serve znum cup roasted sugar pie pumpkin mash znum znum cup light coconut milk znum teaspoon red curry paste znum garlic clove znum tablespoon fresh lime juice sea salt freshly ground black pepper znum znum tablespoon water need thin</td>\n      <td>Instructions</td>\n      <td>Recepie</td>\n    </tr>\n    <tr>\n      <th>559</th>\n      <td>large bowl combine flaxseed water banana zdot mash stir combine zdot let mixture sit znum minute thicken zdot add olive oil vanilla almond milk whisk zdot add flour sprinkle baking powder baking soda cinnamon nutmeg salt evenly zdot stir ingredient combine batter bit lumpy zdot batter bit thick pron znum s thick scoop stir additional znum tablespoon almond milk zdot</td>\n      <td>Instructions</td>\n      <td>Instructions</td>\n    </tr>\n    <tr>\n      <th>560</th>\n      <td>garnish drizzle coconut milk desire zdot</td>\n      <td>Instructions</td>\n      <td>Instructions</td>\n    </tr>\n    <tr>\n      <th>561</th>\n      <td>bake znum znum minute egg set edge lightly golden brown zdot let casserole sit znum minute slice zdot</td>\n      <td>Instructions</td>\n      <td>Instructions</td>\n    </tr>\n    <tr>\n      <th>562</th>\n      <td>dust znum large baking sheet flour set aside zdot</td>\n      <td>Instructions</td>\n      <td>Instructions</td>\n    </tr>\n    <tr>\n      <th>563</th>\n      <td>stir dry wet mix zdot</td>\n      <td>Instructions</td>\n      <td>Instructions</td>\n    </tr>\n    <tr>\n      <th>564</th>\n      <td>stuffing zdot large skillet heat oil medium heat zdot add onion cook minute pron start soften zdot add carrot celery pinche salt pepper continue cook vegetable soften znum minute zdot add poblanos garlic sage oregano cook minute zdot deglaze pan white wine zdot add corn scallion currant kale salt cook minute kale wilt zdot remove pan heat set aside zdot</td>\n      <td>Instructions</td>\n      <td>Instructions</td>\n    </tr>\n    <tr>\n      <th>565</th>\n      <td>cook pasta pot salt boiling water al dente zdot</td>\n      <td>Instructions</td>\n      <td>Instructions</td>\n    </tr>\n    <tr>\n      <th>566</th>\n      <td>cut pumpkin half scoop seed zdot drizzle olive oil pinche salt pepper place baking sheet cut zdot roast znum znum minute soft zdot cool touch peel away skin measure znum packed cup flesh zdot</td>\n      <td>Instructions</td>\n      <td>Instructions</td>\n    </tr>\n    <tr>\n      <th>567</th>\n      <td>assemble dumpling scoop znum heap teaspoon filling wrapper zdot use pron finger dab edge wrapper cold water fold half filling press seal zdot fold znum pleat wrapper crescent zdot</td>\n      <td>Instructions</td>\n      <td>Instructions</td>\n    </tr>\n    <tr>\n      <th>568</th>\n      <td>znum cup cook wheat berry roast butternut squash cube znum small squash znum medium shallot chop znum inch piece znum cup znum cup fresh sage leave znum extra virgin olive oil drizzle apple cider vinegar dressing znum bunch lacinato kale stem znum cup toast walnut chop znum cup dry cranberry znum cup chop parsley znum tablespoon fresh thyme znum cup shave pecorino cheese sea salt freshly ground black pepper</td>\n      <td>Instructions</td>\n      <td>Recepie</td>\n    </tr>\n    <tr>\n      <th>569</th>\n      <td>large bowl mix brown rice cereal almond hemp seed coconut salt zdot</td>\n      <td>Instructions</td>\n      <td>Instructions</td>\n    </tr>\n    <tr>\n      <th>570</th>\n      <td>preheat oven znum f line large baking sheet parchment paper zdot</td>\n      <td>Instructions</td>\n      <td>Instructions</td>\n    </tr>\n    <tr>\n      <th>571</th>\n      <td>toss cubed pumpkin znum squash bit olive oil salt znum pepper zdot spread baking sheet roast golden brown edge znum znum min depend pron squash zdot</td>\n      <td>Instructions</td>\n      <td>Instructions</td>\n    </tr>\n    <tr>\n      <th>572</th>\n      <td>preheat oven znum f lightly grease znum baking dish nonstick spray olive oil zdot</td>\n      <td>Instructions</td>\n      <td>Instructions</td>\n    </tr>\n    <tr>\n      <th>573</th>\n      <td>remove heat add squeeze lime juice stir cilantro zdot taste adjust seasoning zdot</td>\n      <td>Instructions</td>\n      <td>Instructions</td>\n    </tr>\n    <tr>\n      <th>574</th>\n      <td>pron artichoke roast pesto zdot combine pine nut garlic small food processor zdot pulse add pea lemon juice dijon mustard spinach mint zdot blend combine zdot add olive oil blend smooth smooth pron like zdot</td>\n      <td>Instructions</td>\n      <td>Instructions</td>\n    </tr>\n    <tr>\n      <th>575</th>\n      <td>cook pasta large pot salt boiling water zdot</td>\n      <td>Instructions</td>\n      <td>Instructions</td>\n    </tr>\n    <tr>\n      <th>576</th>\n      <td>add reserved broth simmer znum minute add bok choy zdot simmer bok choy tender vibrant green znum znum minute zdot</td>\n      <td>Instructions</td>\n      <td>Instructions</td>\n    </tr>\n    <tr>\n      <th>577</th>\n      <td>place bean large bowl zdot discard stone debris zdot cover znum znum inch water discard bean float zdot soak room temperature znum hour overnight zdot drain rinse zdot</td>\n      <td>Instructions</td>\n      <td>Instructions</td>\n    </tr>\n    <tr>\n      <th>578</th>\n      <td>stir sweet potato broth mixture saut znum ed onion zdot increase heat high bring mixture boil zdot lower heat medium add znum teaspoon salt simmer uncover stir occasionally znum minute sweet potato tender zdot</td>\n      <td>Instructions</td>\n      <td>Instructions</td>\n    </tr>\n    <tr>\n      <th>579</th>\n      <td>sprinkle cookie sanding sugar bake znum znum minute zdot</td>\n      <td>Instructions</td>\n      <td>Instructions</td>\n    </tr>\n    <tr>\n      <th>580</th>\n      <td>heat medium skillet medium heat zdot brush pan little bit oil cook quesadilla minute tortilla golden brown cheese melt zdot</td>\n      <td>Instructions</td>\n      <td>Instructions</td>\n    </tr>\n    <tr>\n      <th>581</th>\n      <td>znum small japanese eggplant chop znum inch piece znum cup chop summer squash znum red bell pepper chop znum inch piece znum cup cherry tomato slice extra virgin olive oil drizzle znum tortillas znum cup cook black bean drain rinse znum avocados dice chop cilantro znum serrano pepper slice optional crumble cotija cheese optional sea salt freshly ground black pepper znum cup tomatillo salsa znum cup pepitas znum avocado handful spinach znum tablespoon extra virgin olive oil lime juice taste sea salt freshly ground black pepper</td>\n      <td>Instructions</td>\n      <td>Recepie</td>\n    </tr>\n    <tr>\n      <th>582</th>\n      <td>char pepper gas burner broiler skin blacken zdot</td>\n      <td>Instructions</td>\n      <td>Instructions</td>\n    </tr>\n    <tr>\n      <th>583</th>\n      <td>heat oil large pot medium heat zdot add onion znum teaspoon salt grind pepper cook stir occasionally znum minute zdot add carrot sweet potato stir cook znum minute zdot</td>\n      <td>Instructions</td>\n      <td>Instructions</td>\n    </tr>\n    <tr>\n      <th>584</th>\n      <td>marinate tuna soy sauce ginger pepper zdot let pron sit znum minute hour fridge zdot</td>\n      <td>Instructions</td>\n      <td>Instructions</td>\n    </tr>\n    <tr>\n      <th>585</th>\n      <td>znum cup wheat pastry flour znum znum purpose flour znum cup cocoa powder znum tablespoon baking powder znum teaspoon baking soda znum teaspoon sea salt znum teaspoon cinnamon znum teaspoon nutmeg znum eggs znum cups almond milk room temp znum cup coconut oil melt znum cup maple syrup znum teaspoon vanilla extract znum cup shred unpeeled zucchini znum cup semisweet chocolate chip sprinkle</td>\n      <td>Instructions</td>\n      <td>Recepie</td>\n    </tr>\n    <tr>\n      <th>586</th>\n      <td>znum large carrot sea salt coat znum tablespoon extra virgin olive oil znum tablespoon rice vinegar znum teaspoon smoke paprika big squeeze fresh lemon juice freshly grind black pepper bagel vegan cream cheese cucumber slice caper chive znum dill</td>\n      <td>Instructions</td>\n      <td>Recepie</td>\n    </tr>\n    <tr>\n      <th>587</th>\n      <td>scrape white bean puree pot stir combine zdot quinoa creamy consistency dry zdot pron dry add good splash vegetable stock zdot</td>\n      <td>Instructions</td>\n      <td>Instructions</td>\n    </tr>\n    <tr>\n      <th>588</th>\n      <td>high speed blender combine ingredient zdot blend smooth zdot</td>\n      <td>Instructions</td>\n      <td>Instructions</td>\n    </tr>\n    <tr>\n      <th>589</th>\n      <td>turn heat low add noodle pan drizzle sauce zdot pron use pron pron sweet start half add later pron taste zdot add tofu pan handful green scallion toss zdot taste add sauce salt pepper pron wish zdot</td>\n      <td>Instructions</td>\n      <td>Instructions</td>\n    </tr>\n    <tr>\n      <th>590</th>\n      <td>place vegetable chickpea large baking sheet pron touch closely use znum sheet pron zdot drizzle toss olive oil salt pepper zdot roast golden brown znum znum minute total look znum remove broccoli necessary zdot</td>\n      <td>Instructions</td>\n      <td>Instructions</td>\n    </tr>\n    <tr>\n      <th>591</th>\n      <td>arrange squash cube baking sheet toss little bit olive oil zdot roast znum znum minute tender zdot note zdot squash need golden brown soft zdot</td>\n      <td>Instructions</td>\n      <td>Instructions</td>\n    </tr>\n    <tr>\n      <th>592</th>\n      <td>shawarma spice mix zdot small bowl combine coriander paprika cumin cinnamon ginger cayenne pinche salt pepper zdot use generous pinche season chickpeas roast pron zdot</td>\n      <td>Instructions</td>\n      <td>Instructions</td>\n    </tr>\n    <tr>\n      <th>593</th>\n      <td>preheat pron oven znum f zdot</td>\n      <td>Instructions</td>\n      <td>Instructions</td>\n    </tr>\n    <tr>\n      <th>594</th>\n      <td>toss sweet potato olive oil salt pepper spread baking sheet zdot roast znum minute golden brown zdot</td>\n      <td>Instructions</td>\n      <td>Instructions</td>\n    </tr>\n    <tr>\n      <th>595</th>\n      <td>mix chop avocado serve zdot taste znum adjust zdot</td>\n      <td>Instructions</td>\n      <td>Instructions</td>\n    </tr>\n    <tr>\n      <th>596</th>\n      <td>preheat oven znum f line znum inch bake pan parchment paper zdot lightly spray exposed pan nonstick cook spray zdot</td>\n      <td>Instructions</td>\n      <td>Instructions</td>\n    </tr>\n    <tr>\n      <th>597</th>\n      <td>znum ounces apple juice znum cinnamon sticks znum star anise pod znum ounce stoli premium vodka znum tablespoon fresh squeeze lemon ice znum oz zdot bottle spark water optional apple slice garnish</td>\n      <td>Instructions</td>\n      <td>Recepie</td>\n    </tr>\n    <tr>\n      <th>598</th>\n      <td>spicy vegan cheese add chipotle pepper pickle jalape znum os zdot pron znum d like smoky flavor add smoke paprika zdot</td>\n      <td>Instructions</td>\n      <td>Instructions</td>\n    </tr>\n    <tr>\n      <th>599</th>\n      <td>znum tablespoon extra virgin olive oil drizzle znum yellow onion coarsely chop znum pound eggplant stem cut znum inch piece znum teaspoon sea salt divide znum garlic clove chop znum cup cherry tomatoes divide znum red yellow bell pepper stem seeded cut znum inch piece znum medium zucchini halve slice znum inch thick half moon znum tablespoon fresh thyme leave znum teaspoon herbe de provence znum teaspoon dry oregano freshly grind black pepper pinch red pepper flake znum tablespoon white wine vinegar divide fresh basil znum thyme leave garnish</td>\n      <td>Instructions</td>\n      <td>Recepie</td>\n    </tr>\n  </tbody>\n</table>\n</div>"
     },
     "execution_count": 40,
     "metadata": {},
     "output_type": "execute_result"
    }
   ],
   "source": [
    "THRESHOLD=0.5\n",
    "preds = model.predict(X_test)\n",
    "\n",
    "pred_df = pd.DataFrame(columns=['text', 'pred_label'])\n",
    "pred_df['text'] = text_test\n",
    "pred_df['pred_label'] = preds\n",
    "pred_df['label'] = y_test\n",
    "pred_df['label'] = pred_df['label'].apply(lambda x: 'Instructions' if x==0 else 'Recepie')\n",
    "pred_df['pred_label'] = pred_df['pred_label'].apply(lambda x: 'Recepie' if x > THRESHOLD else 'Instructions')\n",
    "pred_df[548:600]"
   ]
  },
  {
   "cell_type": "code",
   "execution_count": 41,
   "metadata": {},
   "outputs": [],
   "source": [
    "model.save('/Users/karlestermann/PycharmProjects/ai_assignment_aidock/data/simplelstm.h5')"
   ]
  },
  {
   "cell_type": "code",
   "execution_count": null,
   "metadata": {},
   "outputs": [],
   "source": []
  }
 ],
 "metadata": {
  "kernelspec": {
   "display_name": "Python 3",
   "language": "python",
   "name": "python3"
  },
  "language_info": {
   "codemirror_mode": {
    "name": "ipython",
    "version": 3
   },
   "file_extension": ".py",
   "mimetype": "text/x-python",
   "name": "python",
   "nbconvert_exporter": "python",
   "pygments_lexer": "ipython3",
   "version": "3.8.5"
  }
 },
 "nbformat": 4,
 "nbformat_minor": 4
}